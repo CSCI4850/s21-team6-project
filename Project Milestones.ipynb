{
 "cells": [
  {
   "cell_type": "markdown",
   "id": "educated-shoulder",
   "metadata": {},
   "source": [
    "| Deliverable | Percent Complete | Estimated Completion Date | Percent Complete by Next Milestone |\n",
    "| --- | --- | --- | --- |\n",
    "| Code | 3% | Apr 18 | 30%\n",
    "| Paper | 0% | Apr 21 | 5% |\n",
    "| Demo | 0% | May 1 | 0% |\n",
    "| Presentation | 0% | May 3 | 0% |"
   ]
  },
  {
   "cell_type": "markdown",
   "id": "intense-office",
   "metadata": {},
   "source": [
    "1. What deliverable goals established in the last milestone report were accomplished to the anticipated percentage?\n",
    "\n",
    "    This was the first milestone, so no previous goals were set."
   ]
  },
  {
   "cell_type": "markdown",
   "id": "toxic-irish",
   "metadata": {},
   "source": [
    "2. What deliverable goals established in the last milestone report were not accomplished to the anticipated?\n",
    "\n",
    "    This was the first milestone, so no previous goals were set."
   ]
  },
  {
   "cell_type": "markdown",
   "id": "resistant-arrival",
   "metadata": {},
   "source": [
    "3. What are the main deliverable goals to meet before the next milestone report, and who is working on them?\n",
    "\n",
    "    Matthew: Initializing the neural net framework.\n",
    "    \n",
    "\tGeorge: Creating a program to convert the data set into a usable format.\n",
    "    \n",
    "\tUtah: Working on the game interface/any dependencies needed for the project.\n",
    "    \n",
    "\tBrooks: Researching neural net structures and potential optimizations. \n",
    "    \n",
    "\tEric:  Creating a function to parse legal Go moves in a position.\n"
   ]
  }
 ],
 "metadata": {
  "kernelspec": {
   "display_name": "Python 3",
   "language": "python",
   "name": "python3"
  },
  "language_info": {
   "codemirror_mode": {
    "name": "ipython",
    "version": 3
   },
   "file_extension": ".py",
   "mimetype": "text/x-python",
   "name": "python",
   "nbconvert_exporter": "python",
   "pygments_lexer": "ipython3",
   "version": "3.8.6"
  }
 },
 "nbformat": 4,
 "nbformat_minor": 5
}
