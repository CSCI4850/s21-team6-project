{
 "cells": [
  {
   "cell_type": "markdown",
   "id": "consolidated-prisoner",
   "metadata": {},
   "source": [
    "# Project Proposal: 9x9 Go Neural Net"
   ]
  },
  {
   "cell_type": "markdown",
   "id": "advisory-sterling",
   "metadata": {},
   "source": [
    "### Aim of Project and Role of Neural Net:"
   ]
  },
  {
   "cell_type": "markdown",
   "id": "exterior-primary",
   "metadata": {},
   "source": [
    "##### &emsp; The goal of this project is to design and train a neural net to play a legal game of Go in its entirety not just initially against a user but subsequently also against itself. To this end, the net will grow in competency as we feed it information through the format of input vector containers depicting data collected from externally sourced databases. As of right now, it is accepted that these vectors will contain 4 separate binary values (-1 being used in place of 0). These values describe the state of an individual space on the board, namely if it is occupied by a black unit, a white unit, whether the space is actionable or not, and whose turn it is respectively. In addition to using this framework, the net, as it improves as a player, will be documented during both the learning and verification phases to gauge the improvement of the system to ensure that its moves are legal, not necessarily that it is scoring particularly high as we feel that this is more in line with the scope of the project given time constraints.\n",
    "##### &emsp; The size of the board will be restrained to a 9x9 segmented tile board on which to play. This takes advantage of neural net applications because it effectively learns to the point of being able to play using these restraints while also acquiring the general skills necessary to play on other sizes of board as well, achieving a level of generalization. Ultimately, it will function without unnecessary input provided from an outside source which would be a monumental task for traditional iterative programming methods to accomplish while simultaneously fulfilling the potentiality of neural nets as a concept by mimicking a “mind,” or in this case an opponent for a user to play the game against. "
   ]
  },
  {
   "cell_type": "markdown",
   "id": "freelance-function",
   "metadata": {},
   "source": [
    "### Data Sets and Learning Tools:"
   ]
  },
  {
   "cell_type": "markdown",
   "id": "found-castle",
   "metadata": {},
   "source": [
    "##### &emsp; Our group discovered a dataset of over 60,000 9x9 games played on a Go mobile application, of which we intend currently only to use roughly 9000 played by users of the app ranked in the top 50, as to hopefully expose the network to a fairly high level of play. If the network proves to perform very poorly on this initial set of 9000 games, then we can perhaps include more games from this human database in the training data. Otherwise, our plan is to allow the neural network to generate additional games through self-play after it has trained on the initial data set. The initial data set will be supplemented by an augmented set of games in which illegal moves are introduced which result in an immediate loss for the offending player. These additional games will hopefully serve the purpose of teaching the agent to recognize illegal moves, and to condition the agent against playing such moves."
   ]
  },
  {
   "cell_type": "markdown",
   "id": "local-biotechnology",
   "metadata": {},
   "source": [
    "### Testing Protocol:"
   ]
  },
  {
   "cell_type": "markdown",
   "id": "architectural-folks",
   "metadata": {},
   "source": [
    "##### &emsp; Since Go is a zero sum adversarial game in which one player must always win and the other will always lose, we can evaluate the performance of our engine by the number of games it is able to win, compared to the number of games it loses. In our testing an illegal move will result in an immediate loss, so this testing metric will encompass both the agent’s ability to play well and its ability to play correctly. Initially, we can test the agent against members of the group (all novice Go players) to see how it fares against beginner to novice level players, then, more exhaustive performance tests can be conducted by pairing the agent against existing, traditional Go engines in large batches."
   ]
  },
  {
   "cell_type": "code",
   "execution_count": null,
   "id": "geographic-casino",
   "metadata": {},
   "outputs": [],
   "source": []
  }
 ],
 "metadata": {
  "kernelspec": {
   "display_name": "Python 3",
   "language": "python",
   "name": "python3"
  },
  "language_info": {
   "codemirror_mode": {
    "name": "ipython",
    "version": 3
   },
   "file_extension": ".py",
   "mimetype": "text/x-python",
   "name": "python",
   "nbconvert_exporter": "python",
   "pygments_lexer": "ipython3",
   "version": "3.8.6"
  }
 },
 "nbformat": 4,
 "nbformat_minor": 5
}
