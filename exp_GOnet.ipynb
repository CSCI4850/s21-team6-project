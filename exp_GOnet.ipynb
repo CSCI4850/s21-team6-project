{
 "cells": [
  {
   "cell_type": "markdown",
   "id": "julian-doctor",
   "metadata": {},
   "source": [
    "# Decoding Board from Data"
   ]
  },
  {
   "cell_type": "code",
   "execution_count": 84,
   "id": "running-newsletter",
   "metadata": {},
   "outputs": [],
   "source": [
    "#necessary imports\n",
    "import pandas\n",
    "import numpy as np\n",
    "import os\n",
    "import tensorflow.keras as keras\n",
    "from keras.models import Model\n",
    "from keras.layers import Dense, Input\n",
    "from IPython.display import display\n",
    "import sympy as sp\n",
    "sp.init_printing(use_latex = True)\n",
    "import math\n",
    "\n",
    "import matplotlib.pyplot as plt\n",
    "%matplotlib inline\n",
    "\n",
    "%run exp_Drivers.ipynb\n",
    "\n",
    "EMPTY = 1;\n",
    "COLOR = 0;\n",
    "\n",
    "BLACK = -1;\n",
    "WHITE = 1;\n",
    "\n",
    "WIDTH = 9;"
   ]
  },
  {
   "cell_type": "markdown",
   "id": "surface-blind",
   "metadata": {},
   "source": [
    "# Data Categorization and Assignment"
   ]
  },
  {
   "cell_type": "code",
   "execution_count": 43,
   "id": "blond-defeat",
   "metadata": {},
   "outputs": [
    {
     "name": "stdout",
     "output_type": "stream",
     "text": [
      "40\n"
     ]
    }
   ],
   "source": [
    "Boards = []\n",
    "Moves = []\n",
    "def Main():\n",
    "    path = \"./go9\"\n",
    "    counter = 0\n",
    "    for entry in os.scandir(path): #I changed my mind i love python\n",
    "        Go = True\n",
    "        Board = createEmptyBoard() # 0 - 80 = [color, empty], 81 = [turn, turn]\n",
    "        with open(entry) as f:\n",
    "            if Go:\n",
    "                for line in f:\n",
    "                    if line[0] == ';': # this is the line with all the moves.\n",
    "                        Go = False\n",
    "                        copy = \"\"\n",
    "                        for c in line:\n",
    "                            if c != \"[\" and c != \"]\" and c != \")\":\n",
    "                                copy += c\n",
    "                        arr = copy[1:].split(';')\n",
    "                        for a in arr:\n",
    "                            int_move = Decode_Move(a[1:])\n",
    "                            move = index_to_coordinate(int_move)\n",
    "                            color = 1\n",
    "                            if(a[0] == 'B'):\n",
    "                                color = -1\n",
    "                            Boards.append(Board)\n",
    "                            Moves.append(int_move)\n",
    "                            if int_move < 81:\n",
    "                                Board = Move(Board, move[1], move[0])[1]\n",
    "Main()\n",
    "Boards = np.array(Boards)\n",
    "print(Moves[0])\n",
    "Moves = np.array(Moves)"
   ]
  },
  {
   "cell_type": "code",
   "execution_count": 44,
   "id": "native-characterization",
   "metadata": {},
   "outputs": [
    {
     "name": "stdout",
     "output_type": "stream",
     "text": [
      "(414124, 9, 9, 2)\n"
     ]
    }
   ],
   "source": [
    "print(Boards.shape)"
   ]
  },
  {
   "cell_type": "code",
   "execution_count": 76,
   "id": "frozen-target",
   "metadata": {},
   "outputs": [
    {
     "name": "stdout",
     "output_type": "stream",
     "text": [
      "#  A B C D E F G H I\n",
      "1  . . . . . . . . .\n",
      "2  . . . . . . . . .\n",
      "3  . . O . @ . @ . .\n",
      "4  . . . O @ @ O @ .\n",
      "5  . . @ O @ O O @ .\n",
      "6  . . O . @ O . . .\n",
      "7  . . . . @ O . . .\n",
      "8  . . . @ O O . . .\n",
      "9  . . . . . . . . .\n",
      "\n",
      "#  A B C D E F G H I\n",
      "1  . . . . . . . . .\n",
      "2  . . . . . . . . .\n",
      "3  . . O . @ . @ . .\n",
      "4  . . . O @ @ O @ .\n",
      "5  . . @ O @ O O @ .\n",
      "6  . . O @ @ O . . .\n",
      "7  . . . . @ O . . .\n",
      "8  . . . @ O O . . .\n",
      "9  . . . . . . . . .\n",
      "\n"
     ]
    }
   ],
   "source": [
    "# Example Position:\n",
    "printBoard(Boards[22], -1)\n",
    "printBoard(Boards[23], 1)"
   ]
  },
  {
   "cell_type": "code",
   "execution_count": 46,
   "id": "visible-paragraph",
   "metadata": {},
   "outputs": [
    {
     "name": "stdout",
     "output_type": "stream",
     "text": [
      "(414124, 9, 9, 2)\n",
      "(414124, 82)\n",
      "[40 49 41 ... 75 18 36]\n"
     ]
    }
   ],
   "source": [
    "X = Boards\n",
    "Y = keras.utils.to_categorical(Moves)\n",
    "\n",
    "training_samples = int(0.9 * X.shape[0])\n",
    "X_train, X_test = X[:training_samples], X[training_samples:] # Inputs\n",
    "Y_train, Y_test = Y[:training_samples], Y[training_samples:] # Outputs\n",
    "\n",
    "print(X.shape)\n",
    "print(Y.shape)\n",
    "print(Moves)"
   ]
  },
  {
   "cell_type": "markdown",
   "id": "proprietary-shelf",
   "metadata": {},
   "source": [
    "# Building the Model"
   ]
  },
  {
   "cell_type": "code",
   "execution_count": 64,
   "id": "friendly-seating",
   "metadata": {},
   "outputs": [
    {
     "name": "stdout",
     "output_type": "stream",
     "text": [
      "(372711, 9, 9, 2)\n",
      "Model: \"sequential_17\"\n",
      "_________________________________________________________________\n",
      "Layer (type)                 Output Shape              Param #   \n",
      "=================================================================\n",
      "dense_31 (Dense)             (None, 9, 9, 2)           6         \n",
      "_________________________________________________________________\n",
      "conv2d_58 (Conv2D)           (None, 7, 7, 27)          513       \n",
      "_________________________________________________________________\n",
      "conv2d_59 (Conv2D)           (None, 5, 5, 27)          6588      \n",
      "_________________________________________________________________\n",
      "conv2d_60 (Conv2D)           (None, 3, 3, 27)          6588      \n",
      "_________________________________________________________________\n",
      "conv2d_61 (Conv2D)           (None, 1, 1, 27)          6588      \n",
      "_________________________________________________________________\n",
      "flatten_9 (Flatten)          (None, 27)                0         \n",
      "_________________________________________________________________\n",
      "dense_32 (Dense)             (None, 1000)              28000     \n",
      "_________________________________________________________________\n",
      "dense_33 (Dense)             (None, 82)                82082     \n",
      "=================================================================\n",
      "Total params: 130,365\n",
      "Trainable params: 130,365\n",
      "Non-trainable params: 0\n",
      "_________________________________________________________________\n"
     ]
    }
   ],
   "source": [
    "\n",
    "model = keras.models.Sequential()\n",
    "\n",
    "model.add(keras.layers.Dense(2, activation = 'relu', input_shape = (9, 9, 2)))\n",
    "model.add(keras.layers.Conv2D(27, (3, 3), activation = 'relu'))\n",
    "model.add(keras.layers.Conv2D(27, (3, 3), activation = 'relu'))\n",
    "model.add(keras.layers.Conv2D(27, (3, 3), activation = 'relu'))\n",
    "model.add(keras.layers.Conv2D(27, (3, 3), activation = 'relu'))\n",
    "model.add(keras.layers.Flatten())\n",
    "model.add(keras.layers.Dense(1000, activation = 'relu'))\n",
    "model.add(keras.layers.Dense(82, activation = 'softmax'))\n",
    "\n",
    "\n",
    "model.compile(loss=keras.losses.CategoricalCrossentropy(), optimizer = keras.optimizers.Adam(), metrics = [keras.metrics.CategoricalAccuracy()])\n",
    "print(X_train.shape)\n",
    "\n",
    "model.summary()"
   ]
  },
  {
   "cell_type": "markdown",
   "id": "attended-capitol",
   "metadata": {},
   "source": [
    "# Training"
   ]
  },
  {
   "cell_type": "code",
   "execution_count": 65,
   "id": "lined-motion",
   "metadata": {},
   "outputs": [],
   "source": [
    "# Load Weights\n",
    "#model.load_weights('mini_weights.h5')"
   ]
  },
  {
   "cell_type": "code",
   "execution_count": 66,
   "id": "chemical-swift",
   "metadata": {},
   "outputs": [
    {
     "name": "stdout",
     "output_type": "stream",
     "text": [
      "Epoch 1/16\n",
      "11648/11648 [==============================] - 93s 8ms/step - loss: 3.9511 - categorical_accuracy: 0.0540 - val_loss: 3.6480 - val_categorical_accuracy: 0.1140\n",
      "Epoch 2/16\n",
      "11648/11648 [==============================] - 91s 8ms/step - loss: 3.5585 - categorical_accuracy: 0.1335 - val_loss: 3.4585 - val_categorical_accuracy: 0.1628\n",
      "Epoch 3/16\n",
      "11648/11648 [==============================] - 90s 8ms/step - loss: 3.3905 - categorical_accuracy: 0.1749 - val_loss: 3.3537 - val_categorical_accuracy: 0.1827\n",
      "Epoch 4/16\n",
      "11648/11648 [==============================] - 90s 8ms/step - loss: 3.3060 - categorical_accuracy: 0.1945 - val_loss: 3.3106 - val_categorical_accuracy: 0.1957\n",
      "Epoch 5/16\n",
      "11648/11648 [==============================] - 90s 8ms/step - loss: 3.2518 - categorical_accuracy: 0.2076 - val_loss: 3.2791 - val_categorical_accuracy: 0.2053\n",
      "Epoch 6/16\n",
      "11648/11648 [==============================] - 91s 8ms/step - loss: 3.2178 - categorical_accuracy: 0.2158 - val_loss: 3.2409 - val_categorical_accuracy: 0.2148\n",
      "Epoch 7/16\n",
      "11648/11648 [==============================] - 90s 8ms/step - loss: 3.1873 - categorical_accuracy: 0.2225 - val_loss: 3.2369 - val_categorical_accuracy: 0.2175\n",
      "Epoch 8/16\n",
      "11648/11648 [==============================] - 90s 8ms/step - loss: 3.1624 - categorical_accuracy: 0.2276 - val_loss: 3.2503 - val_categorical_accuracy: 0.2180\n",
      "Epoch 9/16\n",
      "11648/11648 [==============================] - 90s 8ms/step - loss: 3.1475 - categorical_accuracy: 0.2299 - val_loss: 3.2033 - val_categorical_accuracy: 0.2236\n",
      "Epoch 10/16\n",
      "11648/11648 [==============================] - 89s 8ms/step - loss: 3.1224 - categorical_accuracy: 0.2348 - val_loss: 3.2191 - val_categorical_accuracy: 0.2171\n",
      "Epoch 11/16\n",
      "11648/11648 [==============================] - 90s 8ms/step - loss: 3.1067 - categorical_accuracy: 0.2375 - val_loss: 3.1852 - val_categorical_accuracy: 0.2284\n",
      "Epoch 12/16\n",
      "11648/11648 [==============================] - 90s 8ms/step - loss: 3.0976 - categorical_accuracy: 0.2400 - val_loss: 3.1843 - val_categorical_accuracy: 0.2303\n",
      "Epoch 13/16\n",
      "11648/11648 [==============================] - 90s 8ms/step - loss: 3.0889 - categorical_accuracy: 0.2419 - val_loss: 3.1855 - val_categorical_accuracy: 0.2321\n",
      "Epoch 14/16\n",
      "11648/11648 [==============================] - 90s 8ms/step - loss: 3.0865 - categorical_accuracy: 0.2422 - val_loss: 3.1650 - val_categorical_accuracy: 0.2306\n",
      "Epoch 15/16\n",
      "11648/11648 [==============================] - 90s 8ms/step - loss: 3.0773 - categorical_accuracy: 0.2435 - val_loss: 3.1790 - val_categorical_accuracy: 0.2314\n",
      "Epoch 16/16\n",
      "11648/11648 [==============================] - 89s 8ms/step - loss: 3.0713 - categorical_accuracy: 0.2457 - val_loss: 3.1742 - val_categorical_accuracy: 0.2326\n"
     ]
    }
   ],
   "source": [
    "#Train the model\n",
    "history = model.fit(X_train, Y_train, batch_size = 32, epochs = 16, workers = 10, verbose = 1, validation_data = (X_test, Y_test))"
   ]
  },
  {
   "cell_type": "code",
   "execution_count": 67,
   "id": "occupied-entertainment",
   "metadata": {},
   "outputs": [],
   "source": [
    "# Save Weights\n",
    "model.save_weights('mini_weights.h5')"
   ]
  },
  {
   "cell_type": "code",
   "execution_count": 68,
   "id": "sunrise-fabric",
   "metadata": {},
   "outputs": [
    {
     "data": {
      "image/png": "[encoded data removed]",
      "text/plain": [
       "<Figure size 432x288 with 2 Axes>"
      ]
     },
     "metadata": {
      "needs_background": "light"
     },
     "output_type": "display_data"
    }
   ],
   "source": [
    "plt.figure(1)\n",
    "\n",
    "plt.subplot(211)\n",
    "plt.plot(history.history['categorical_accuracy'])\n",
    "plt.plot(history.history['val_categorical_accuracy'])\n",
    "plt.title('model accuracy')\n",
    "plt.ylabel('accuracy')\n",
    "plt.xlabel('epoch')\n",
    "plt.legend(['train', 'val'], loc='upper left')\n",
    "\n",
    "plt.subplot(212)\n",
    "plt.plot(history.history['loss'])\n",
    "plt.plot(history.history['val_loss'])\n",
    "plt.title('model loss') \n",
    "\n",
    "plt.ylabel('loss')\n",
    "plt.xlabel('epoch')\n",
    "plt.legend(['train', 'val'], loc='upper left')\n",
    "plt.tight_layout()\n",
    "plt.show()"
   ]
  },
  {
   "cell_type": "code",
   "execution_count": 86,
   "id": "scientific-conservative",
   "metadata": {},
   "outputs": [],
   "source": [
    "Play()"
   ]
  },
  {
   "cell_type": "code",
   "execution_count": null,
   "id": "institutional-picnic",
   "metadata": {},
   "outputs": [],
   "source": []
  }
 ],
 "metadata": {
  "kernelspec": {
   "display_name": "Python 3",
   "language": "python",
   "name": "python3"
  },
  "language_info": {
   "codemirror_mode": {
    "name": "ipython",
    "version": 3
   },
   "file_extension": ".py",
   "mimetype": "text/x-python",
   "name": "python",
   "nbconvert_exporter": "python",
   "pygments_lexer": "ipython3",
   "version": "3.8.6"
  }
 },
 "nbformat": 4,
 "nbformat_minor": 5
}
