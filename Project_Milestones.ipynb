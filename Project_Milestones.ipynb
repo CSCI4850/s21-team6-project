{
 "cells": [
  {
   "cell_type": "markdown",
   "id": "opposite-malpractice",
   "metadata": {
    "id": "violent-bermuda"
   },
   "source": [
    "<center><h1> Milestone 1 </h1></center>"
   ]
  },
  {
   "cell_type": "markdown",
   "id": "helpful-superintendent",
   "metadata": {
    "id": "manufactured-settle"
   },
   "source": [
    "| Deliverable | Percent Complete | Estimated Completion Date | Percent Complete by Next Milestone |\n",
    "| --- | --- | --- | --- |\n",
    "| Code | 3% | Apr 18 | 30%\n",
    "| Paper | 0% | Apr 21 | 5% |\n",
    "| Demo | 0% | May 1 | 0% |\n",
    "| Presentation | 0% | May 3 | 0% |"
   ]
  },
  {
   "cell_type": "markdown",
   "id": "ordinary-daniel",
   "metadata": {
    "id": "homeless-dining"
   },
   "source": [
    "1) What deliverable goals established in the last milestone report were accomplished to the anticipated percentage?\n",
    "\n",
    "    This was the first milestone, so no previous goals were set."
   ]
  },
  {
   "cell_type": "markdown",
   "id": "alive-restriction",
   "metadata": {
    "id": "continuous-guitar"
   },
   "source": [
    "2) What deliverable goals established in the last milestone report were not accomplished to the anticipated?\n",
    "\n",
    "    This was the first milestone, so no previous goals were set."
   ]
  },
  {
   "cell_type": "markdown",
   "id": "heard-colleague",
   "metadata": {
    "id": "joint-terrain"
   },
   "source": [
    "3) What are the main deliverable goals to meet before the next milestone report, and who is working on them?\n",
    "\n",
    "    Matthew: Initializing the neural net framework.\n",
    "    \n",
    "\tGeorge: Creating a program to convert the data set into a usable format.\n",
    "    \n",
    "\tUtah: Working on the game interface/any dependencies needed for the project.\n",
    "    \n",
    "\tBrooks: Researching neural net structures and potential optimizations. \n",
    "    \n",
    "\tEric:  Creating a function to parse legal Go moves in a position.\n"
   ]
  },
  {
   "cell_type": "markdown",
   "id": "running-cedar",
   "metadata": {
    "id": "given-snapshot"
   },
   "source": [
    "<center><h1> Milestone 2 </h1></center>"
   ]
  },
  {
   "cell_type": "markdown",
   "id": "educational-conditions",
   "metadata": {
    "id": "certain-christmas"
   },
   "source": [
    "| Deliverable | Percent Complete | Estimated Completion Date | Percent Complete by Next Milestone |\n",
    "| --- | --- | --- | --- |\n",
    "| Code | 30% | Apr 18 | 50%\n",
    "| Paper | 0% | Apr 21 | 30% |\n",
    "| Demo | 0% | May 1 | 0% |\n",
    "| Presentation | 0% | May 3 | 20% |"
   ]
  },
  {
   "cell_type": "markdown",
   "id": "historic-street",
   "metadata": {
    "id": "excessive-pregnancy"
   },
   "source": [
    "1) What deliverable goals established in the last milestone report were accomplished to the anticipated percentage?\n",
    "\n",
    "    For the most part, goals set in the first milestone were completed. The neural net was initialized and set up for training as well as a program was written to convert the dataset into the needed format. Research was done on methods of integrating the neural net into a way to test it against an opponent. A function was made to determine legal moves from position and stored past moves."
   ]
  },
  {
   "cell_type": "markdown",
   "id": "described-agriculture",
   "metadata": {
    "id": "senior-connectivity"
   },
   "source": [
    "2) What deliverable goals established in the last milestone report were not accomplished to the anticipated?\n",
    "\n",
    "    The various portions created for the first milestone weren't integrated together. Progress wasn't made on the paper like was anticipated."
   ]
  },
  {
   "cell_type": "markdown",
   "id": "hungry-bread",
   "metadata": {
    "id": "african-analyst"
   },
   "source": [
    "3) What are the main deliverable goals to meet before the next milestone report, and who is working on them?\n",
    "\n",
    "    Matthew: Begin testing and verification of testing with accuracy and implementation of a loss function\n",
    "    \n",
    "    George: Work on finding an engine online to play against and investigating a program to help with visualizing moves\n",
    "    \n",
    "    Utah: Begin work on the PowerPoint presentation together as well as a few talking points for the demo.\n",
    "    \n",
    "    Brooks: Begin work on the paper and collaborate information for milestone 2.\n",
    "    \n",
    "    Eric: Begin integrating previously made code and creating driver file where the net can work with positions from a variable. Upload milestone to github."
   ]
  },
  {
   "cell_type": "markdown",
   "id": "novel-england",
   "metadata": {
    "id": "japanese-access"
   },
   "source": [
    "<center><h1> Milestone 3 </h1></center>"
   ]
  },
  {
   "cell_type": "markdown",
   "id": "automotive-prime",
   "metadata": {
    "id": "neutral-reservation"
   },
   "source": [
    "| Deliverable | Percent Complete | Estimated Completion Date | Percent Complete by Next Milestone |\n",
    "| --- | --- | --- | --- |\n",
    "| Code | 40% | Apr 18 | 55%\n",
    "| Paper | 20% | Apr 21 | 40% |\n",
    "| Demo | 0% | May 1 | 0% |\n",
    "| Presentation | 10% | May 3 | 30% |"
   ]
  },
  {
   "cell_type": "markdown",
   "id": "separated-western",
   "metadata": {
    "id": "measured-exposure"
   },
   "source": [
    "1) What deliverable goals established in the last milestone report were accomplished to the anticipated percentage?\n",
    "\n",
    "    Work began on the paper and the presentation, and went as well as was planned. The neural net was converted from a sequential to a functional model."
   ]
  },
  {
   "cell_type": "markdown",
   "id": "suburban-specialist",
   "metadata": {
    "id": "cubic-seven"
   },
   "source": [
    "2) What deliverable goals established in the last milestone report were not accomplished to the anticipated?\n",
    "\n",
    "    The program to keep track of a board state, create a mask representing legal moves, and using the model to predict a move given a board state was not completed. An engine was not found for the agent to play/possibly train against. Training the agent based off the existing data ran into some hurdles and the data formatting will need to be slightly changed."
   ]
  },
  {
   "cell_type": "markdown",
   "id": "dominican-fitness",
   "metadata": {
    "id": "cardiac-renaissance"
   },
   "source": [
    "3) What are the main deliverable goals to meet before the next milestone report, and who is working on them?\n",
    "\n",
    "    Matthew: Begin training the neural net and optimizing its architecture.\n",
    "    \n",
    "    George: Continue to search for an engine online to play against, investigate a program to help with visualizing moves, update data transformation to meet new needs, resolve error in data.\n",
    "    \n",
    "    Utah: Continue work on the presentation, including work on a presentation script.\n",
    "    \n",
    "    Brooks: Continue work on the paper.\n",
    "    \n",
    "    Eric: Compile and submit third milestone. Create driver file where the net can work with positions from a boardstate array. Create a function to return a mask showing what moves are legal."
   ]
  },
  {
   "cell_type": "markdown",
   "id": "greek-authority",
   "metadata": {
    "id": "FUHSxNE5s1Va"
   },
   "source": [
    "<center><h1> Milestone 4 </h1></center>"
   ]
  },
  {
   "cell_type": "markdown",
   "id": "general-accounting",
   "metadata": {
    "id": "_TB5Jpi6sv1r"
   },
   "source": [
    "| Deliverable | Percent Complete | Estimated Completion Date | Percent Complete by Next Milestone |\n",
    "| --- | --- | --- | --- |\n",
    "| Code | 50% | Apr 18 | 60%\n",
    "| Paper | 30% | Apr 21 | 45% |\n",
    "| Demo | 5% | May 1 | 10% |\n",
    "| Presentation | 20% | May 3 | 35% |"
   ]
  },
  {
   "cell_type": "markdown",
   "id": "royal-planner",
   "metadata": {
    "id": "Pw3XTV14sv1t"
   },
   "source": [
    "1) What deliverable goals established in the last milestone report were accomplished to the anticipated percentage?\n",
    "\n",
    "    The data was reformatted successfully, some progress was made on the paper and the presentation. A program was made to keep track of and display the board state, determine illegal moves, and process moves when they're made."
   ]
  },
  {
   "cell_type": "markdown",
   "id": "dying-replica",
   "metadata": {
    "id": "E1tKkqImtIfL"
   },
   "source": [
    "2) What deliverable goals established in the last milestone report were not accomplished to the anticipated?\n",
    "\n",
    "    The program which keeps track of the board state was not yet linked to the neural net's predictions. A program wasn't quite found to play against the agent, but what was found was the formatting standard our program will need to play against another engine."
   ]
  },
  {
   "cell_type": "markdown",
   "id": "found-industry",
   "metadata": {
    "id": "z2081Z3OtIfL"
   },
   "source": [
    "3) What are the main deliverable goals to meet before the next milestone report, and who is working on them?\n",
    "\n",
    "    Matthew: Continue training and optimizing the neural net using the newly reformatted data.\n",
    "    \n",
    "    George: Continue search for a compatible engine to train the network against. Search for an improved interface for playing against the network.\n",
    "    \n",
    "    Utah: Continue work on the presentation, including work on a presentation script.\n",
    "    \n",
    "    Brooks: Continue work on the paper.\n",
    "    \n",
    "    Eric: Compile and submit fourth milestone. Fix bugs involving the capture of pieces and connect the board state program to the neural net's predictions."
   ]
  },
  {
   "cell_type": "markdown",
   "id": "guided-bookmark",
   "metadata": {
    "id": "FUHSxNE5s1Va"
   },
   "source": [
    "<center><h1> Milestone 5 </h1></center>"
   ]
  },
  {
   "cell_type": "markdown",
   "id": "noticed-culture",
   "metadata": {
    "id": "_TB5Jpi6sv1r"
   },
   "source": [
    "| Deliverable | Percent Complete | Estimated Completion Date | Percent Complete by Next Milestone |\n",
    "| --- | --- | --- | --- |\n",
    "| Code | 65% | Apr 18 | 70%\n",
    "| Paper | 45% | Apr 21 | 60% |\n",
    "| Demo | 10% | May 1 | 15% |\n",
    "| Presentation | 30% | May 3 | 35% |"
   ]
  },
  {
   "cell_type": "markdown",
   "id": "stock-cutting",
   "metadata": {
    "id": "Pw3XTV14sv1t"
   },
   "source": [
    "1) What deliverable goals established in the last milestone report were accomplished to the anticipated percentage?\n",
    "\n",
    "    Work continued on the paper and the presentation. The network was reworked into a convolution network, and its layers were reworked. Additionally, the network continued to be trained, and showed improved (albeit low) accuracy. Bugs involving the board state and illegal move mask were corrected. An engine to face the network was found in the form of Leela, but was not yet set up."
   ]
  },
  {
   "cell_type": "markdown",
   "id": "veterinary-massachusetts",
   "metadata": {
    "id": "E1tKkqImtIfL"
   },
   "source": [
    "2) What deliverable goals established in the last milestone report were not accomplished to the anticipated?\n",
    "\n",
    "    The program which keeps track of the board state was still not yet linked to the neural net's predictions. A program to face against our network, although found, was not set up."
   ]
  },
  {
   "cell_type": "markdown",
   "id": "posted-maryland",
   "metadata": {
    "id": "z2081Z3OtIfL"
   },
   "source": [
    "3) What are the main deliverable goals to meet before the next milestone report, and who is working on them?\n",
    "\n",
    "    Matthew: Continue training and optimizing the neural net.\n",
    "    \n",
    "    George: Set up Leela to play against our network.\n",
    "    \n",
    "    Utah: Continue work on the presentation.\n",
    "    \n",
    "    Brooks: Finish work on the rough draft of the paper.\n",
    "    \n",
    "    Eric: Compile and submit fifth milestone. Create a file which loads the network from the saved weights, and links to the driver function."
   ]
  },
  {
   "cell_type": "markdown",
   "id": "mounted-console",
   "metadata": {
    "id": "FUHSxNE5s1Va"
   },
   "source": [
    "<center><h1> Milestone 6 </h1></center>"
   ]
  },
  {
   "cell_type": "markdown",
   "id": "primary-brother",
   "metadata": {
    "id": "_TB5Jpi6sv1r"
   },
   "source": [
    "| Deliverable | Percent Complete | Estimated Completion Date | Percent Complete by Next Milestone |\n",
    "| --- | --- | --- | --- |\n",
    "| Code | 70% | Apr 18 | 90%\n",
    "| Paper | 70% | Apr 21 | 100% |\n",
    "| Demo | 15% | May 1 | 25% |\n",
    "| Presentation | 35% | May 3 | 50% |"
   ]
  },
  {
   "cell_type": "markdown",
   "id": "improved-weapon",
   "metadata": {
    "id": "Pw3XTV14sv1t"
   },
   "source": [
    "1) What deliverable goals established in the last milestone report were accomplished to the anticipated percentage?\n",
    "\n",
    "    Good progress was made on the paper, and work continued on the demo. Training of the net and methodology research continued. A file was created to load the network from saved weights. After researching an engine to play against our network, it was concluded that mass games would not be possible. Additionally, we unveiled some synchronicity issues between the training data and the network's input, resulting in possible problems with the training conducted thus far."
   ]
  },
  {
   "cell_type": "markdown",
   "id": "sought-negotiation",
   "metadata": {
    "id": "E1tKkqImtIfL"
   },
   "source": [
    "2) What deliverable goals established in the last milestone report were not accomplished to the anticipated?\n",
    "\n",
    "    Leela was unable to be set up to play against our network. The network still can't play via the driver functions."
   ]
  },
  {
   "cell_type": "markdown",
   "id": "coated-prince",
   "metadata": {
    "id": "z2081Z3OtIfL"
   },
   "source": [
    "3) What are the main deliverable goals to meet before the next milestone report, and who is working on them?\n",
    "\n",
    "    Matthew: Rewrite the network's method for encoding input data; retrain the network.\n",
    "    \n",
    "    George: Generate example games. Train other versions of the network to show past progress.\n",
    "    \n",
    "    Utah: Incorporate work discussed in the paper in the demo.\n",
    "    \n",
    "    Brooks: Finish and polish paper.\n",
    "    \n",
    "    Eric: Compile and submit sixth milestone. Rewrite driver functions to use the same encoding method as the network. Add functions to facilitate the creation of example games."
   ]
  }
 ],
 "metadata": {
  "colab": {
   "collapsed_sections": [],
   "name": "Project Milestones.ipynb",
   "provenance": []
  },
  "kernelspec": {
   "display_name": "Python 3",
   "language": "python",
   "name": "python3"
  },
  "language_info": {
   "codemirror_mode": {
    "name": "ipython",
    "version": 3
   },
   "file_extension": ".py",
   "mimetype": "text/x-python",
   "name": "python",
   "nbconvert_exporter": "python",
   "pygments_lexer": "ipython3",
   "version": "3.8.6"
  }
 },
 "nbformat": 4,
 "nbformat_minor": 5
}
