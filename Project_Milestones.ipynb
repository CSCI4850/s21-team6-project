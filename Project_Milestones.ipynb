{
  "nbformat": 4,
  "nbformat_minor": 5,
  "metadata": {
    "kernelspec": {
      "display_name": "Python 3",
      "language": "python",
      "name": "python3"
    },
    "language_info": {
      "codemirror_mode": {
        "name": "ipython",
        "version": 3
      },
      "file_extension": ".py",
      "mimetype": "text/x-python",
      "name": "python",
      "nbconvert_exporter": "python",
      "pygments_lexer": "ipython3",
      "version": "3.8.6"
    },
    "colab": {
      "name": "Project Milestones.ipynb",
      "provenance": [],
      "collapsed_sections": []
    }
  },
  "cells": [
    {
      "cell_type": "markdown",
      "metadata": {
        "id": "violent-bermuda"
      },
      "source": [
        "<center><h1> Milestone 1 </h1></center>"
      ],
      "id": "violent-bermuda"
    },
    {
      "cell_type": "markdown",
      "metadata": {
        "id": "manufactured-settle"
      },
      "source": [
        "| Deliverable | Percent Complete | Estimated Completion Date | Percent Complete by Next Milestone |\n",
        "| --- | --- | --- | --- |\n",
        "| Code | 3% | Apr 18 | 30%\n",
        "| Paper | 0% | Apr 21 | 5% |\n",
        "| Demo | 0% | May 1 | 0% |\n",
        "| Presentation | 0% | May 3 | 0% |"
      ],
      "id": "manufactured-settle"
    },
    {
      "cell_type": "markdown",
      "metadata": {
        "id": "homeless-dining"
      },
      "source": [
        "1) What deliverable goals established in the last milestone report were accomplished to the anticipated percentage?\n",
        "\n",
        "    This was the first milestone, so no previous goals were set."
      ],
      "id": "homeless-dining"
    },
    {
      "cell_type": "markdown",
      "metadata": {
        "id": "continuous-guitar"
      },
      "source": [
        "2) What deliverable goals established in the last milestone report were not accomplished to the anticipated?\n",
        "\n",
        "    This was the first milestone, so no previous goals were set."
      ],
      "id": "continuous-guitar"
    },
    {
      "cell_type": "markdown",
      "metadata": {
        "id": "joint-terrain"
      },
      "source": [
        "3) What are the main deliverable goals to meet before the next milestone report, and who is working on them?\n",
        "\n",
        "    Matthew: Initializing the neural net framework.\n",
        "    \n",
        "\tGeorge: Creating a program to convert the data set into a usable format.\n",
        "    \n",
        "\tUtah: Working on the game interface/any dependencies needed for the project.\n",
        "    \n",
        "\tBrooks: Researching neural net structures and potential optimizations. \n",
        "    \n",
        "\tEric:  Creating a function to parse legal Go moves in a position.\n"
      ],
      "id": "joint-terrain"
    },
    {
      "cell_type": "markdown",
      "metadata": {
        "id": "given-snapshot"
      },
      "source": [
        "<center><h1> Milestone 2 </h1></center>"
      ],
      "id": "given-snapshot"
    },
    {
      "cell_type": "markdown",
      "metadata": {
        "id": "certain-christmas"
      },
      "source": [
        "| Deliverable | Percent Complete | Estimated Completion Date | Percent Complete by Next Milestone |\n",
        "| --- | --- | --- | --- |\n",
        "| Code | 30% | Apr 18 | 50%\n",
        "| Paper | 0% | Apr 21 | 30% |\n",
        "| Demo | 0% | May 1 | 0% |\n",
        "| Presentation | 0% | May 3 | 20% |"
      ],
      "id": "certain-christmas"
    },
    {
      "cell_type": "markdown",
      "metadata": {
        "id": "excessive-pregnancy"
      },
      "source": [
        "1) What deliverable goals established in the last milestone report were accomplished to the anticipated percentage?\n",
        "\n",
        "    For the most part, goals set in the first milestone were completed. The neural net was initialized and set up for training as well as a program was written to convert the dataset into the needed format. Research was done on methods of integrating the neural net into a way to test it against an opponent. A function was made to determine legal moves from position and stored past moves."
      ],
      "id": "excessive-pregnancy"
    },
    {
      "cell_type": "markdown",
      "metadata": {
        "id": "senior-connectivity"
      },
      "source": [
        "2) What deliverable goals established in the last milestone report were not accomplished to the anticipated?\n",
        "\n",
        "    The various portions created for the first milestone weren't integrated together. Progress wasn't made on the paper like was anticipated."
      ],
      "id": "senior-connectivity"
    },
    {
      "cell_type": "markdown",
      "metadata": {
        "id": "african-analyst"
      },
      "source": [
        "3) What are the main deliverable goals to meet before the next milestone report, and who is working on them?\n",
        "\n",
        "    Matthew: Begin testing and verification of testing with accuracy and implementation of a loss function\n",
        "    \n",
        "    George: Work on finding an engine online to play against and investigating a program to help with visualizing moves\n",
        "    \n",
        "    Utah: Begin work on the PowerPoint presentation together as well as a few talking points for the demo.\n",
        "    \n",
        "    Brooks: Begin work on the paper and collaborate information for milestone 2.\n",
        "    \n",
        "    Eric: Begin integrating previously made code and creating driver file where the net can work with positions from a variable. Upload milestone to github."
      ],
      "id": "african-analyst"
    },
    {
      "cell_type": "markdown",
      "metadata": {
        "id": "japanese-access"
      },
      "source": [
        "<center><h1> Milestone 3 </h1></center>"
      ],
      "id": "japanese-access"
    },
    {
      "cell_type": "markdown",
      "metadata": {
        "id": "neutral-reservation"
      },
      "source": [
        "| Deliverable | Percent Complete | Estimated Completion Date | Percent Complete by Next Milestone |\n",
        "| --- | --- | --- | --- |\n",
        "| Code | 40% | Apr 18 | 55%\n",
        "| Paper | 20% | Apr 21 | 40% |\n",
        "| Demo | 0% | May 1 | 0% |\n",
        "| Presentation | 10% | May 3 | 30% |"
      ],
      "id": "neutral-reservation"
    },
    {
      "cell_type": "markdown",
      "metadata": {
        "id": "measured-exposure"
      },
      "source": [
        "1) What deliverable goals established in the last milestone report were accomplished to the anticipated percentage?\n",
        "\n",
        "    Work began on the paper and the presentation, and went as well as was planned. The neural net was converted from a sequential to a functional model."
      ],
      "id": "measured-exposure"
    },
    {
      "cell_type": "markdown",
      "metadata": {
        "id": "cubic-seven"
      },
      "source": [
        "2) What deliverable goals established in the last milestone report were not accomplished to the anticipated?\n",
        "\n",
        "    The program to keep track of a board state, create a mask representing legal moves, and using the model to predict a move given a board state was not completed. An engine was not found for the agent to play/possibly train against. Training the agent based off the existing data ran into some hurdles and the data formatting will need to be slightly changed."
      ],
      "id": "cubic-seven"
    },
    {
      "cell_type": "markdown",
      "metadata": {
        "id": "cardiac-renaissance"
      },
      "source": [
        "3) What are the main deliverable goals to meet before the next milestone report, and who is working on them?\n",
        "\n",
        "    Matthew: Begin training the neural net and optimizing its architecture.\n",
        "    \n",
        "    George: Continue to search for an engine online to play against, investigate a program to help with visualizing moves, update data transformation to meet new needs, resolve error in data.\n",
        "    \n",
        "    Utah: Continue work on the presentation, including work on a presentation script.\n",
        "    \n",
        "    Brooks: Continue work on the paper.\n",
        "    \n",
        "    Eric: Compile and submit third milestone. Create driver file where the net can work with positions from a boardstate array. Create a function to return a mask showing what moves are legal."
      ],
      "id": "cardiac-renaissance"
    },
    {
      "cell_type": "markdown",
      "metadata": {
        "id": "FUHSxNE5s1Va"
      },
      "source": [
        "<center><h1> Milestone 4 </h1></center>"
      ],
      "id": "FUHSxNE5s1Va"
    },
    {
      "cell_type": "markdown",
      "metadata": {
        "id": "_TB5Jpi6sv1r"
      },
      "source": [
        "| Deliverable | Percent Complete | Estimated Completion Date | Percent Complete by Next Milestone |\n",
        "| --- | --- | --- | --- |\n",
        "| Code | 50% | Apr 18 | 60%\n",
        "| Paper | 30% | Apr 21 | 45% |\n",
        "| Demo | 5% | May 1 | 10% |\n",
        "| Presentation | 20% | May 3 | 35% |"
      ],
      "id": "_TB5Jpi6sv1r"
    },
    {
      "cell_type": "markdown",
      "metadata": {
        "id": "Pw3XTV14sv1t"
      },
      "source": [
        "1) What deliverable goals established in the last milestone report were accomplished to the anticipated percentage?\n",
        "\n",
        "    The data was reformatted successfully, some progress was made on the paper and the presentation. A program was made to keep track of and display the board state, determine illegal moves, and process moves when they're made."
      ],
      "id": "Pw3XTV14sv1t"
    },
    {
      "cell_type": "markdown",
      "metadata": {
        "id": "E1tKkqImtIfL"
      },
      "source": [
        "2) What deliverable goals established in the last milestone report were not accomplished to the anticipated?\n",
        "\n",
        "    The program which keeps track of the board state was not yet linked to the neural net's predictions. A program wasn't quite found to play against the agent, but what was found was the formatting standard our program will need to play against another engine."
      ],
      "id": "E1tKkqImtIfL"
    },
    {
      "cell_type": "markdown",
      "metadata": {
        "id": "z2081Z3OtIfL"
      },
      "source": [
        "3) What are the main deliverable goals to meet before the next milestone report, and who is working on them?\n",
        "\n",
        "    Matthew: Continue training and optimizing the neural net using the newly reformatted data.\n",
        "    \n",
        "    George: Continue search for a compatible engine to train the network against. Search for an improved interface for playing against the network.\n",
        "    \n",
        "    Utah: Continue work on the presentation, including work on a presentation script.\n",
        "    \n",
        "    Brooks: Continue work on the paper.\n",
        "    \n",
        "    Eric: Compile and submit fourth milestone. Fix bugs involving the capture of pieces and connect the board state program to the neural net's predictions."
      ],
      "id": "z2081Z3OtIfL"
    }
  ]
}
